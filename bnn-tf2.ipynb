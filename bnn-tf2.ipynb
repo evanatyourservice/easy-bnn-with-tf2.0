{
 "cells": [
  {
   "cell_type": "markdown",
   "metadata": {},
   "source": [
    "## Bayesian Neural Networks in Keras and TensorFlow 2.0"
   ]
  },
  {
   "cell_type": "code",
   "execution_count": 1,
   "metadata": {},
   "outputs": [
    {
     "name": "stdout",
     "output_type": "stream",
     "text": [
      "Collecting tensorflow==2.0.0b1\n",
      "  Using cached https://files.pythonhosted.org/packages/29/6c/2c9a5c4d095c63c2fb37d20def0e4f92685f7aee9243d6aae25862694fd1/tensorflow-2.0.0b1-cp36-cp36m-manylinux1_x86_64.whl\n",
      "Requirement already satisfied: gast>=0.2.0 in /glob/intel-python/versions/2018u2/intelpython3/lib/python3.6/site-packages (from tensorflow==2.0.0b1)\n",
      "Requirement already satisfied: six>=1.10.0 in /glob/intel-python/versions/2018u2/intelpython3/lib/python3.6/site-packages (from tensorflow==2.0.0b1)\n",
      "Requirement already satisfied: grpcio>=1.8.6 in /glob/intel-python/versions/2018u2/intelpython3/lib/python3.6/site-packages (from tensorflow==2.0.0b1)\n",
      "Requirement already satisfied: wrapt>=1.11.1 in /home/u30073/.local/lib/python3.6/site-packages (from tensorflow==2.0.0b1)\n",
      "Requirement already satisfied: tf-estimator-nightly<1.14.0.dev2019060502,>=1.14.0.dev2019060501 in /home/u30073/.local/lib/python3.6/site-packages (from tensorflow==2.0.0b1)\n",
      "Requirement already satisfied: absl-py>=0.7.0 in /glob/intel-python/versions/2018u2/intelpython3/lib/python3.6/site-packages (from tensorflow==2.0.0b1)\n",
      "Requirement already satisfied: keras-applications>=1.0.6 in /glob/intel-python/versions/2018u2/intelpython3/lib/python3.6/site-packages (from tensorflow==2.0.0b1)\n",
      "Requirement already satisfied: protobuf>=3.6.1 in /glob/intel-python/versions/2018u2/intelpython3/lib/python3.6/site-packages (from tensorflow==2.0.0b1)\n",
      "Requirement already satisfied: keras-preprocessing>=1.0.5 in /glob/intel-python/versions/2018u2/intelpython3/lib/python3.6/site-packages (from tensorflow==2.0.0b1)\n",
      "Requirement already satisfied: astor>=0.6.0 in /glob/intel-python/versions/2018u2/intelpython3/lib/python3.6/site-packages (from tensorflow==2.0.0b1)\n",
      "Requirement already satisfied: termcolor>=1.1.0 in /glob/intel-python/versions/2018u2/intelpython3/lib/python3.6/site-packages (from tensorflow==2.0.0b1)\n",
      "Requirement already satisfied: numpy<2.0,>=1.14.5 in /home/u30073/.local/lib/python3.6/site-packages (from tensorflow==2.0.0b1)\n",
      "Requirement already satisfied: google-pasta>=0.1.6 in /home/u30073/.local/lib/python3.6/site-packages (from tensorflow==2.0.0b1)\n",
      "Requirement already satisfied: tb-nightly<1.14.0a20190604,>=1.14.0a20190603 in /home/u30073/.local/lib/python3.6/site-packages (from tensorflow==2.0.0b1)\n",
      "Requirement already satisfied: wheel>=0.26 in /glob/intel-python/versions/2018u2/intelpython3/lib/python3.6/site-packages (from tensorflow==2.0.0b1)\n",
      "Requirement already satisfied: h5py in /glob/intel-python/versions/2018u2/intelpython3/lib/python3.6/site-packages (from keras-applications>=1.0.6->tensorflow==2.0.0b1)\n",
      "Requirement already satisfied: setuptools in /home/u30073/.local/lib/python3.6/site-packages (from protobuf>=3.6.1->tensorflow==2.0.0b1)\n",
      "Requirement already satisfied: werkzeug>=0.11.15 in /glob/intel-python/versions/2018u2/intelpython3/lib/python3.6/site-packages (from tb-nightly<1.14.0a20190604,>=1.14.0a20190603->tensorflow==2.0.0b1)\n",
      "Requirement already satisfied: markdown>=2.6.8 in /glob/intel-python/versions/2018u2/intelpython3/lib/python3.6/site-packages (from tb-nightly<1.14.0a20190604,>=1.14.0a20190603->tensorflow==2.0.0b1)\n",
      "Installing collected packages: tensorflow\n",
      "  Found existing installation: tensorflow 1.14.0\n",
      "    Uninstalling tensorflow-1.14.0:\n",
      "      Successfully uninstalled tensorflow-1.14.0\n",
      "\u001b[31mException:\n",
      "Traceback (most recent call last):\n",
      "  File \"/glob/intel-python/versions/2018u2/intelpython3/lib/python3.6/shutil.py\", line 420, in _rmtree_safe_fd\n",
      "    os.rmdir(name, dir_fd=topfd)\n",
      "OSError: [Errno 39] Directory not empty: 'framework'\n",
      "\n",
      "During handling of the above exception, another exception occurred:\n",
      "\n",
      "Traceback (most recent call last):\n",
      "  File \"/glob/intel-python/versions/2018u2/intelpython3/lib/python3.6/site-packages/pip/basecommand.py\", line 215, in main\n",
      "    status = self.run(options, args)\n",
      "  File \"/glob/intel-python/versions/2018u2/intelpython3/lib/python3.6/site-packages/pip/commands/install.py\", line 342, in run\n",
      "    prefix=options.prefix_path,\n",
      "  File \"/glob/intel-python/versions/2018u2/intelpython3/lib/python3.6/site-packages/pip/req/req_set.py\", line 795, in install\n",
      "    requirement.commit_uninstall()\n",
      "  File \"/glob/intel-python/versions/2018u2/intelpython3/lib/python3.6/site-packages/pip/req/req_install.py\", line 767, in commit_uninstall\n",
      "    self.uninstalled.commit()\n",
      "  File \"/glob/intel-python/versions/2018u2/intelpython3/lib/python3.6/site-packages/pip/req/req_uninstall.py\", line 142, in commit\n",
      "    rmtree(self.save_dir)\n",
      "  File \"/glob/intel-python/versions/2018u2/intelpython3/lib/python3.6/site-packages/pip/_vendor/retrying.py\", line 49, in wrapped_f\n",
      "    return Retrying(*dargs, **dkw).call(f, *args, **kw)\n",
      "  File \"/glob/intel-python/versions/2018u2/intelpython3/lib/python3.6/site-packages/pip/_vendor/retrying.py\", line 212, in call\n",
      "    raise attempt.get()\n",
      "  File \"/glob/intel-python/versions/2018u2/intelpython3/lib/python3.6/site-packages/pip/_vendor/retrying.py\", line 247, in get\n",
      "    six.reraise(self.value[0], self.value[1], self.value[2])\n",
      "  File \"/glob/intel-python/versions/2018u2/intelpython3/lib/python3.6/site-packages/pip/_vendor/six.py\", line 686, in reraise\n",
      "    raise value\n",
      "  File \"/glob/intel-python/versions/2018u2/intelpython3/lib/python3.6/site-packages/pip/_vendor/retrying.py\", line 200, in call\n",
      "    attempt = Attempt(fn(*args, **kwargs), attempt_number, False)\n",
      "  File \"/glob/intel-python/versions/2018u2/intelpython3/lib/python3.6/site-packages/pip/utils/__init__.py\", line 102, in rmtree\n",
      "    onerror=rmtree_errorhandler)\n",
      "  File \"/glob/intel-python/versions/2018u2/intelpython3/lib/python3.6/shutil.py\", line 480, in rmtree\n",
      "    _rmtree_safe_fd(fd, path, onerror)\n",
      "  File \"/glob/intel-python/versions/2018u2/intelpython3/lib/python3.6/shutil.py\", line 418, in _rmtree_safe_fd\n",
      "    _rmtree_safe_fd(dirfd, fullname, onerror)\n",
      "  File \"/glob/intel-python/versions/2018u2/intelpython3/lib/python3.6/shutil.py\", line 418, in _rmtree_safe_fd\n",
      "    _rmtree_safe_fd(dirfd, fullname, onerror)\n",
      "  File \"/glob/intel-python/versions/2018u2/intelpython3/lib/python3.6/shutil.py\", line 418, in _rmtree_safe_fd\n",
      "    _rmtree_safe_fd(dirfd, fullname, onerror)\n",
      "  [Previous line repeated 4 more times]\n",
      "  File \"/glob/intel-python/versions/2018u2/intelpython3/lib/python3.6/shutil.py\", line 422, in _rmtree_safe_fd\n",
      "    onerror(os.rmdir, fullname, sys.exc_info())\n",
      "  File \"/glob/intel-python/versions/2018u2/intelpython3/lib/python3.6/site-packages/pip/utils/__init__.py\", line 114, in rmtree_errorhandler\n",
      "    func(path)\n",
      "OSError: [Errno 39] Directory not empty: '/home/u30073/tmp/pip-p6dxq3hu-uninstall/home/u30073/.local/lib/python3.6/site-packages/tensorflow/python/framework'\u001b[0m\n",
      "\u001b[33mYou are using pip version 9.0.1, however version 19.2.3 is available.\n",
      "You should consider upgrading via the 'pip install --upgrade pip' command.\u001b[0m\n",
      "Collecting tfp_nightly\n",
      "  Downloading https://files.pythonhosted.org/packages/65/b7/0c33cd9eb31cecb40ad723499df6f554acb3bc133a0743174954c22cb344/tfp_nightly-0.9.0.dev20190913-py2.py3-none-any.whl (2.6MB)\n",
      "\u001b[K    100% |████████████████████████████████| 2.6MB 285kB/s eta 0:00:01   6% |██▏                             | 174kB 17.1MB/s eta 0:00:01\n",
      "\u001b[?25hRequirement already satisfied: numpy>=1.13.3 in /home/u30073/.local/lib/python3.6/site-packages (from tfp_nightly)\n",
      "Requirement already satisfied: six>=1.10.0 in /glob/intel-python/versions/2018u2/intelpython3/lib/python3.6/site-packages (from tfp_nightly)\n",
      "Requirement already satisfied: gast<0.3,>=0.2 in /glob/intel-python/versions/2018u2/intelpython3/lib/python3.6/site-packages (from tfp_nightly)\n",
      "Requirement already satisfied: cloudpickle==1.1.1 in /home/u30073/.local/lib/python3.6/site-packages (from tfp_nightly)\n",
      "Requirement already satisfied: decorator in /glob/intel-python/versions/2018u2/intelpython3/lib/python3.6/site-packages (from tfp_nightly)\n",
      "Installing collected packages: tfp-nightly\n",
      "Successfully installed tfp-nightly-0.9.0.dev20190913\n",
      "\u001b[33mYou are using pip version 9.0.1, however version 19.2.3 is available.\n",
      "You should consider upgrading via the 'pip install --upgrade pip' command.\u001b[0m\n",
      "Installed kernelspec tf_prob in /home/u30073/.local/share/jupyter/kernels/tf_prob\n"
     ]
    }
   ],
   "source": [
    "! . activate base\n",
    "!pip install tensorflow==2.0.0b1 --user\n",
    "!pip install tfp_nightly --user\n",
    "!python -m ipykernel install --name tf_prob --user"
   ]
  },
  {
   "cell_type": "code",
   "execution_count": 1,
   "metadata": {},
   "outputs": [
    {
     "name": "stderr",
     "output_type": "stream",
     "text": [
      "/home/u30073/.local/lib/python3.6/site-packages/tensorflow/python/framework/dtypes.py:516: FutureWarning: Passing (type, 1) or '1type' as a synonym of type is deprecated; in a future version of numpy, it will be understood as (type, (1,)) / '(1,)type'.\n",
      "  _np_qint8 = np.dtype([(\"qint8\", np.int8, 1)])\n",
      "/home/u30073/.local/lib/python3.6/site-packages/tensorflow/python/framework/dtypes.py:517: FutureWarning: Passing (type, 1) or '1type' as a synonym of type is deprecated; in a future version of numpy, it will be understood as (type, (1,)) / '(1,)type'.\n",
      "  _np_quint8 = np.dtype([(\"quint8\", np.uint8, 1)])\n",
      "/home/u30073/.local/lib/python3.6/site-packages/tensorflow/python/framework/dtypes.py:518: FutureWarning: Passing (type, 1) or '1type' as a synonym of type is deprecated; in a future version of numpy, it will be understood as (type, (1,)) / '(1,)type'.\n",
      "  _np_qint16 = np.dtype([(\"qint16\", np.int16, 1)])\n",
      "/home/u30073/.local/lib/python3.6/site-packages/tensorflow/python/framework/dtypes.py:519: FutureWarning: Passing (type, 1) or '1type' as a synonym of type is deprecated; in a future version of numpy, it will be understood as (type, (1,)) / '(1,)type'.\n",
      "  _np_quint16 = np.dtype([(\"quint16\", np.uint16, 1)])\n",
      "/home/u30073/.local/lib/python3.6/site-packages/tensorflow/python/framework/dtypes.py:520: FutureWarning: Passing (type, 1) or '1type' as a synonym of type is deprecated; in a future version of numpy, it will be understood as (type, (1,)) / '(1,)type'.\n",
      "  _np_qint32 = np.dtype([(\"qint32\", np.int32, 1)])\n",
      "/home/u30073/.local/lib/python3.6/site-packages/tensorflow/python/framework/dtypes.py:525: FutureWarning: Passing (type, 1) or '1type' as a synonym of type is deprecated; in a future version of numpy, it will be understood as (type, (1,)) / '(1,)type'.\n",
      "  np_resource = np.dtype([(\"resource\", np.ubyte, 1)])\n",
      "/glob/intel-python/python3/lib/python3.6/site-packages/h5py/__init__.py:34: FutureWarning: Conversion of the second argument of issubdtype from `float` to `np.floating` is deprecated. In future, it will be treated as `np.float64 == np.dtype(float).type`.\n",
      "  from ._conv import register_converters as _register_converters\n",
      "/home/u30073/.local/lib/python3.6/site-packages/tensorboard/compat/tensorflow_stub/dtypes.py:541: FutureWarning: Passing (type, 1) or '1type' as a synonym of type is deprecated; in a future version of numpy, it will be understood as (type, (1,)) / '(1,)type'.\n",
      "  _np_qint8 = np.dtype([(\"qint8\", np.int8, 1)])\n",
      "/home/u30073/.local/lib/python3.6/site-packages/tensorboard/compat/tensorflow_stub/dtypes.py:542: FutureWarning: Passing (type, 1) or '1type' as a synonym of type is deprecated; in a future version of numpy, it will be understood as (type, (1,)) / '(1,)type'.\n",
      "  _np_quint8 = np.dtype([(\"quint8\", np.uint8, 1)])\n",
      "/home/u30073/.local/lib/python3.6/site-packages/tensorboard/compat/tensorflow_stub/dtypes.py:543: FutureWarning: Passing (type, 1) or '1type' as a synonym of type is deprecated; in a future version of numpy, it will be understood as (type, (1,)) / '(1,)type'.\n",
      "  _np_qint16 = np.dtype([(\"qint16\", np.int16, 1)])\n",
      "/home/u30073/.local/lib/python3.6/site-packages/tensorboard/compat/tensorflow_stub/dtypes.py:544: FutureWarning: Passing (type, 1) or '1type' as a synonym of type is deprecated; in a future version of numpy, it will be understood as (type, (1,)) / '(1,)type'.\n",
      "  _np_quint16 = np.dtype([(\"quint16\", np.uint16, 1)])\n",
      "/home/u30073/.local/lib/python3.6/site-packages/tensorboard/compat/tensorflow_stub/dtypes.py:545: FutureWarning: Passing (type, 1) or '1type' as a synonym of type is deprecated; in a future version of numpy, it will be understood as (type, (1,)) / '(1,)type'.\n",
      "  _np_qint32 = np.dtype([(\"qint32\", np.int32, 1)])\n",
      "/home/u30073/.local/lib/python3.6/site-packages/tensorboard/compat/tensorflow_stub/dtypes.py:550: FutureWarning: Passing (type, 1) or '1type' as a synonym of type is deprecated; in a future version of numpy, it will be understood as (type, (1,)) / '(1,)type'.\n",
      "  np_resource = np.dtype([(\"resource\", np.ubyte, 1)])\n"
     ]
    }
   ],
   "source": [
    "#TODO: PUT RANDOM SEED FOR RESULT SECURING IN DEMOS\n",
    "import tensorflow as tf\n",
    "import tensorflow_probability as tfp\n",
    "import numpy as np\n",
    "import matplotlib.pyplot as plt\n",
    "import time\n",
    "\n",
    "%matplotlib inline"
   ]
  },
  {
   "cell_type": "code",
   "execution_count": 2,
   "metadata": {},
   "outputs": [
    {
     "name": "stdout",
     "output_type": "stream",
     "text": [
      "TensorFlow version (expected = 2.0.0-beta1): 2.0.0-beta1\n",
      "TensorFlow Probability version (expected = 0.9.0-dev20190912): 0.9.0-dev20190913\n"
     ]
    }
   ],
   "source": [
    "print('TensorFlow version (expected = 2.0.0-beta1):', tf.__version__)\n",
    "print('TensorFlow Probability version (expected = 0.9.0-dev20190912):', tfp.__version__)"
   ]
  },
  {
   "cell_type": "code",
   "execution_count": 3,
   "metadata": {},
   "outputs": [],
   "source": [
    "def softmax(X, theta = 1.0, axis = None):\n",
    "    \"\"\"\n",
    "    Compute the softmax of each element along an axis of X.\n",
    "\n",
    "    Parameters\n",
    "    ----------\n",
    "    X: ND-Array. Probably should be floats.\n",
    "    theta (optional): float parameter, used as a multiplier\n",
    "        prior to exponentiation. Default = 1.0\n",
    "    axis (optional): axis to compute values along. Default is the\n",
    "        first non-singleton axis.\n",
    "\n",
    "    Returns an array the same size as X. The result will sum to 1\n",
    "    along the specified axis.\n",
    "    \"\"\"\n",
    "\n",
    "    # make X at least 2d\n",
    "    y = np.atleast_2d(X)\n",
    "\n",
    "    # find axis\n",
    "    if axis is None:\n",
    "        axis = next(j[0] for j in enumerate(y.shape) if j[1] > 1)\n",
    "\n",
    "    # multiply y against the theta parameter,\n",
    "    y = y * float(theta)\n",
    "\n",
    "    # subtract the max for numerical stability\n",
    "    y = y - np.expand_dims(np.max(y, axis = axis), axis)\n",
    "\n",
    "    # exponentiate y\n",
    "    y = np.exp(y)\n",
    "\n",
    "    # take the sum along the specified axis\n",
    "    ax_sum = np.expand_dims(np.sum(y, axis = axis), axis)\n",
    "\n",
    "    # finally: divide elementwise\n",
    "    p = y / ax_sum\n",
    "\n",
    "    # flatten if X was 1D\n",
    "    if len(X.shape) == 1: p = p.flatten()\n",
    "\n",
    "    return p"
   ]
  },
  {
   "cell_type": "markdown",
   "metadata": {},
   "source": [
    "## We are all set up, lets go!"
   ]
  },
  {
   "cell_type": "code",
   "execution_count": 4,
   "metadata": {},
   "outputs": [
    {
     "name": "stdout",
     "output_type": "stream",
     "text": [
      "We are using MNIST dataset!\n",
      "X_train.shape = (60000, 28, 28, 1)\n",
      "y_train.shape = (60000, 10)\n",
      "X_test.shape = (10000, 28, 28, 1)\n",
      "y_test.shape = (10000, 10)\n"
     ]
    },
    {
     "data": {
      "text/plain": [
       "<matplotlib.image.AxesImage at 0x7fd2bc663160>"
      ]
     },
     "execution_count": 4,
     "metadata": {},
     "output_type": "execute_result"
    },
    {
     "data": {
      "image/png": "[encoded data removed]",
      "text/plain": [
       "<matplotlib.figure.Figure at 0x7fd2be45eef0>"
      ]
     },
     "metadata": {},
     "output_type": "display_data"
    }
   ],
   "source": [
    "\"\"\"\n",
    "first, we load the dataset. We are trying to do it first with MNIST\n",
    "I've found this snippet somewhere in github\n",
    "\"\"\"\n",
    "\n",
    "#as we have 10 classes, I'm setting class number to 10\n",
    "class_nmr = 10\n",
    "\n",
    "print('We are using MNIST dataset!')\n",
    "(X_train, y_train), (X_test, y_test) = tf.keras.datasets.mnist.load_data()\n",
    "X_train = np.expand_dims(X_train, -1)\n",
    "n_train = X_train.shape[0]\n",
    "X_test = np.expand_dims(X_test, -1)\n",
    "y_train = tf.keras.utils.to_categorical(y_train, class_nmr)\n",
    "y_test = tf.keras.utils.to_categorical(y_test, class_nmr)\n",
    "\n",
    "# Normalize data\n",
    "X_train = X_train.astype('float32') / 255\n",
    "X_test = X_test.astype('float32') / 255\n",
    "\n",
    "print(\"X_train.shape =\", X_train.shape)\n",
    "print(\"y_train.shape =\", y_train.shape)\n",
    "print(\"X_test.shape =\", X_test.shape)\n",
    "print(\"y_test.shape =\", y_test.shape)\n",
    "\n",
    "plt.imshow(X_train[1026, :, :, 0], cmap='gist_gray')"
   ]
  },
  {
   "cell_type": "code",
   "execution_count": 5,
   "metadata": {},
   "outputs": [],
   "source": [
    "def build_bayesian_bcnn_model(input_shape):\n",
    "    \n",
    "    \"\"\"\n",
    "    Here we use tf.keras.Model to use our graph as a Neural Network:\n",
    "    We select our input node as the net input, and the last node as our output (predict node).\n",
    "    Note that our model won't be compiled, as we are usign TF2.0 and will optimize it with\n",
    "    a custom @tf.function for loss and a @tf.function for train_step\n",
    "    Our input parameter is just the input shape, a tuple, for the input layer\n",
    "    \"\"\"\n",
    "    \n",
    "    model_in = tf.keras.layers.Input(shape=input_shape)\n",
    "    conv_1 = tfp.python.layers.Convolution2DFlipout(32, kernel_size=(3, 3), padding=\"same\", strides=2)\n",
    "    x = conv_1(model_in)\n",
    "    x = tf.keras.layers.BatchNormalization()(x)\n",
    "    x = tf.keras.layers.Activation('relu')(x)\n",
    "    conv_2 = tfp.python.layers.Convolution2DFlipout(64, kernel_size=(3, 3), padding=\"same\", strides=2)\n",
    "    x = conv_2(x)\n",
    "    x = tf.keras.layers.BatchNormalization()(x)\n",
    "    x = tf.keras.layers.Activation('relu')(x)\n",
    "    x = tf.keras.layers.Flatten()(x)\n",
    "    dense_1 = tfp.python.layers.DenseFlipout(512, activation='relu')\n",
    "    x = dense_1(x)\n",
    "    dense_2 = tfp.python.layers.DenseFlipout(10, activation=None)\n",
    "    model_out = dense_2(x)  # logits\n",
    "    model = tf.keras.Model(model_in, model_out)\n",
    "    return model"
   ]
  },
  {
   "cell_type": "code",
   "execution_count": 10,
   "metadata": {},
   "outputs": [],
   "source": [
    "\"\"\"\n",
    "here we are just instancing our model and setting up an Optimizer\n",
    "\"\"\"\n",
    "bcnn = build_bayesian_bcnn_model(X_train.shape[1:])\n",
    "optimizer = tf.keras.optimizers.Adam(lr=0.01)"
   ]
  },
  {
   "cell_type": "code",
   "execution_count": 11,
   "metadata": {},
   "outputs": [],
   "source": [
    "\"\"\"\n",
    "this is our loss function: a sum of KL Divergence and Softmax crossentropy\n",
    "We use the @tf.function annotation becuase of TF2.0, and need no placeholders\n",
    "we get each loss and return its mean\n",
    "\"\"\"\n",
    "\n",
    "@tf.function\n",
    "def elbo_loss(labels, logits):\n",
    "    loss_en = tf.nn.softmax_cross_entropy_with_logits(labels, logits)\n",
    "    loss_kl = tf.keras.losses.KLD(labels, logits)\n",
    "    loss = tf.reduce_mean(tf.add(loss_en, loss_kl))\n",
    "    return loss"
   ]
  },
  {
   "cell_type": "code",
   "execution_count": 12,
   "metadata": {},
   "outputs": [],
   "source": [
    "\"\"\"\n",
    "this is our train step with tf2.0, very ellegant:\n",
    "We do our flow of the tensors over the model recording its gradientes\n",
    "Then, our gradient tape to give us a list of the gradients of each parameter in relation of the loss\n",
    "we dan ask our previously instanced optimizer to apply those gradients to the variable\n",
    "It is cool to see that it works even with TensorFlow probability- probabilistic layers parameters\n",
    "\"\"\"\n",
    "@tf.function\n",
    "def train_step(images, labels):\n",
    "    with tf.GradientTape() as tape:\n",
    "        logits = bcnn(X_train)\n",
    "        loss = elbo_loss(labels, logits)\n",
    "    gradients = tape.gradient(loss, bcnn.trainable_variables)\n",
    "    optimizer.apply_gradients(zip(gradients, bcnn.trainable_variables))\n",
    "    return loss\n",
    "\n",
    "def accuracy(preds, labels):\n",
    "    return np.mean(np.argmax(preds, axis=1) == np.argmax(y_train, axis=1))"
   ]
  },
  {
   "cell_type": "code",
   "execution_count": 13,
   "metadata": {},
   "outputs": [
    {
     "name": "stdout",
     "output_type": "stream",
     "text": [
      "Epoch: 0: loss =  12.933 , accuracy =   0.118, time:  21.339\n",
      "Epoch: 1: loss =  15.430 , accuracy =   0.134, time:   9.556\n",
      "Epoch: 2: loss =   9.380 , accuracy =   0.184, time:   9.562\n",
      "Epoch: 3: loss =   9.176 , accuracy =   0.187, time:   9.762\n",
      "Epoch: 4: loss =   7.173 , accuracy =   0.203, time:   9.987\n",
      "Epoch: 5: loss =   4.073 , accuracy =   0.195, time:   9.707\n",
      "Epoch: 6: loss =   3.161 , accuracy =   0.208, time:   9.629\n",
      "Epoch: 7: loss =   2.578 , accuracy =   0.202, time:   9.631\n",
      "Epoch: 8: loss =   2.262 , accuracy =   0.229, time:   9.478\n",
      "Epoch: 9: loss =   2.123 , accuracy =   0.288, time:   9.761\n",
      "Epoch: 10: loss =   1.981 , accuracy =   0.404, time:   9.694\n",
      "Epoch: 11: loss =   1.786 , accuracy =   0.483, time:   9.536\n",
      "Epoch: 12: loss =   1.627 , accuracy =   0.562, time:   9.602\n",
      "Epoch: 13: loss =   1.381 , accuracy =   0.626, time:   9.644\n",
      "Epoch: 14: loss =   1.153 , accuracy =   0.684, time:   9.540\n",
      "Epoch: 15: loss =   0.980 , accuracy =   0.724, time:   9.593\n",
      "Epoch: 16: loss =   0.871 , accuracy =   0.735, time:   9.613\n",
      "Epoch: 17: loss =   0.805 , accuracy =   0.750, time:   9.765\n",
      "Epoch: 18: loss =   0.809 , accuracy =   0.777, time:   9.588\n",
      "Epoch: 19: loss =   0.697 , accuracy =   0.808, time:   9.694\n",
      "Epoch: 20: loss =   0.633 , accuracy =   0.823, time:   9.863\n",
      "Epoch: 21: loss =   0.587 , accuracy =   0.836, time:   9.672\n",
      "Epoch: 22: loss =   0.563 , accuracy =   0.845, time:   9.647\n",
      "Epoch: 23: loss =   0.540 , accuracy =   0.852, time:   9.565\n",
      "Epoch: 24: loss =   0.506 , accuracy =   0.864, time:   9.711\n",
      "Epoch: 25: loss =   0.473 , accuracy =   0.871, time:   9.705\n",
      "Epoch: 26: loss =   0.436 , accuracy =   0.876, time:   9.770\n",
      "Epoch: 27: loss =   0.427 , accuracy =   0.880, time:   9.752\n",
      "Epoch: 28: loss =   0.393 , accuracy =   0.885, time:   9.669\n",
      "Epoch: 29: loss =   0.384 , accuracy =   0.889, time:   9.663\n"
     ]
    }
   ],
   "source": [
    "\"\"\"\n",
    "in our train step we can see that it lasts more tha na normal CNN to converge\n",
    "on the other side, we can have the confidence interval for our predictions, which are \n",
    "wonderful in terms of taking sensitive predictions\n",
    "\"\"\"\n",
    "times = []\n",
    "for i in range(30):\n",
    "    tic = time.time()\n",
    "    loss = train_step(X_train, y_train)\n",
    "    preds = bcnn(X_train)\n",
    "    acc = accuracy(preds, y_train)\n",
    "    tac = time.time()\n",
    "    train_time = tac-tic\n",
    "    times.append(train_time)\n",
    "    print(\"Epoch: {}: loss = {:7.3f} , accuracy = {:7.3f}, time: {:7.3f}\".format(i, loss, acc, train_time))"
   ]
  },
  {
   "cell_type": "code",
   "execution_count": 19,
   "metadata": {},
   "outputs": [
    {
     "name": "stdout",
     "output_type": "stream",
     "text": [
      "In TensorFlow 2.0.0b1 our train time mean was :  10.057, with std :   2.098\n",
      "\n",
      "However, by removing the outlier 1st time, our train time mean was :   9.668, with std :   0.105\n",
      "\n",
      "We conclude TensorFlow 2 has a longer time to start its variables, but then does it faster than TF1.14 Intel Optimzied (see other notebook)\n"
     ]
    }
   ],
   "source": [
    "### About the performance:\n",
    "\n",
    "mean = np.mean(times)\n",
    "std = np.std(times)\n",
    "print(\"In TensorFlow 2.0.0b1 our train time mean was : {:7.3f}, with std : {:7.3f}\".format(mean, std))\n",
    "\n",
    "no_outlier = times[1:]\n",
    "no_mean = np.mean(no_outlier)\n",
    "no_std = np.std(no_outlier)\n",
    "print(\"\\nHowever, by removing the outlier 1st time, our train time mean was : {:7.3f}, with std : {:7.3f}\".format(no_mean, no_std))\n",
    "print(\"\\nWe conclude TensorFlow 2 has a longer time to start its variables, but then does it faster than TF1.14 Intel Optimzied (see other notebook)\")"
   ]
  },
  {
   "cell_type": "markdown",
   "metadata": {},
   "source": [
    "### Now we will illustrate our predictions and confidence intervals\n",
    "\n",
    "Those illustrative functions were taken from https://github.com/zhulingchen/tfp-tutorial/ repo, which had the tutorial (in Keras) that did let me learn how to "
   ]
  },
  {
   "cell_type": "code",
   "execution_count": 11,
   "metadata": {},
   "outputs": [
    {
     "name": "stdout",
     "output_type": "stream",
     "text": [
      "Number of recognizable samples: 9995\n",
      "Unrecognizable samples: [2488 3757 3846 4761 5735]\n",
      "Test accuracy on MNIST (recognizable samples): 0.8938469234617309\n",
      "Test accuracy on MNIST (unrecognizable samples): 0.0\n"
     ]
    }
   ],
   "source": [
    "n_mc_run = 50\n",
    "med_prob_thres = 0.20\n",
    "\n",
    "y_pred_logits_list = [bcnn(X_test) for _ in range(n_mc_run)]  # a list of predicted logits\n",
    "y_pred_prob_all = np.concatenate([softmax(y, axis=-1)[:, :, np.newaxis] for y in y_pred_logits_list], axis=-1)\n",
    "y_pred = [[int(np.median(y) >= med_prob_thres) for y in y_pred_prob] for y_pred_prob in y_pred_prob_all]\n",
    "y_pred = np.array(y_pred)\n",
    "\n",
    "idx_valid = [any(y) for y in y_pred]\n",
    "print('Number of recognizable samples:', sum(idx_valid))\n",
    "\n",
    "idx_invalid = [not any(y) for y in y_pred]\n",
    "print('Unrecognizable samples:', np.where(idx_invalid)[0])\n",
    "\n",
    "print('Test accuracy on MNIST (recognizable samples):',\n",
    "      sum(np.equal(np.argmax(y_test[idx_valid], axis=-1), np.argmax(y_pred[idx_valid], axis=-1))) / len(y_test[idx_valid]))\n",
    "\n",
    "print('Test accuracy on MNIST (unrecognizable samples):',\n",
    "      sum(np.equal(np.argmax(y_test[idx_invalid], axis=-1), np.argmax(y_pred[idx_invalid], axis=-1))) / len(y_test[idx_invalid]))"
   ]
  },
  {
   "cell_type": "code",
   "execution_count": 20,
   "metadata": {},
   "outputs": [
    {
     "data": {
      "text/plain": [
       "<matplotlib.image.AxesImage at 0x7febb024b828>"
      ]
     },
     "execution_count": 20,
     "metadata": {},
     "output_type": "execute_result"
    },
    {
     "data": {
      "image/png": "[encoded data removed]",
      "text/plain": [
       "<matplotlib.figure.Figure at 0x7febb03118d0>"
      ]
     },
     "metadata": {},
     "output_type": "display_data"
    }
   ],
   "source": [
    "test = X_test[3846].reshape(-1, 28, 28, 1)\n",
    "plt.imshow(X_test[3846, :, :, 0], cmap='gist_gray')"
   ]
  }
 ],
 "metadata": {
  "kernelspec": {
   "display_name": "tf_prob",
   "language": "python",
   "name": "tf_prob"
  },
  "language_info": {
   "codemirror_mode": {
    "name": "ipython",
    "version": 3
   },
   "file_extension": ".py",
   "mimetype": "text/x-python",
   "name": "python",
   "nbconvert_exporter": "python",
   "pygments_lexer": "ipython3",
   "version": "3.6.3"
  }
 },
 "nbformat": 4,
 "nbformat_minor": 2
}
