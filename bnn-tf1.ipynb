{
 "cells": [
  {
   "cell_type": "markdown",
   "metadata": {},
   "source": [
    "## Bayesian Neural Networks in Keras and TensorFlow 1.14"
   ]
  },
  {
   "cell_type": "code",
   "execution_count": null,
   "metadata": {},
   "outputs": [],
   "source": [
    "# for env setup:\n",
    "! . activate base\n",
    "!pip install tensorflow-mkl --user\n",
    "!pip uninstall tfp_nightly -y\n",
    "!pip install tensorflow-probability\n",
    "!python -m ipykernel install --name tf1test --user"
   ]
  },
  {
   "cell_type": "code",
   "execution_count": 1,
   "metadata": {},
   "outputs": [
    {
     "name": "stderr",
     "output_type": "stream",
     "text": [
      "/home/u30073/.local/lib/python3.6/site-packages/tensorflow/python/framework/dtypes.py:516: FutureWarning: Passing (type, 1) or '1type' as a synonym of type is deprecated; in a future version of numpy, it will be understood as (type, (1,)) / '(1,)type'.\n",
      "  _np_qint8 = np.dtype([(\"qint8\", np.int8, 1)])\n",
      "/home/u30073/.local/lib/python3.6/site-packages/tensorflow/python/framework/dtypes.py:517: FutureWarning: Passing (type, 1) or '1type' as a synonym of type is deprecated; in a future version of numpy, it will be understood as (type, (1,)) / '(1,)type'.\n",
      "  _np_quint8 = np.dtype([(\"quint8\", np.uint8, 1)])\n",
      "/home/u30073/.local/lib/python3.6/site-packages/tensorflow/python/framework/dtypes.py:518: FutureWarning: Passing (type, 1) or '1type' as a synonym of type is deprecated; in a future version of numpy, it will be understood as (type, (1,)) / '(1,)type'.\n",
      "  _np_qint16 = np.dtype([(\"qint16\", np.int16, 1)])\n",
      "/home/u30073/.local/lib/python3.6/site-packages/tensorflow/python/framework/dtypes.py:519: FutureWarning: Passing (type, 1) or '1type' as a synonym of type is deprecated; in a future version of numpy, it will be understood as (type, (1,)) / '(1,)type'.\n",
      "  _np_quint16 = np.dtype([(\"quint16\", np.uint16, 1)])\n",
      "/home/u30073/.local/lib/python3.6/site-packages/tensorflow/python/framework/dtypes.py:520: FutureWarning: Passing (type, 1) or '1type' as a synonym of type is deprecated; in a future version of numpy, it will be understood as (type, (1,)) / '(1,)type'.\n",
      "  _np_qint32 = np.dtype([(\"qint32\", np.int32, 1)])\n",
      "/home/u30073/.local/lib/python3.6/site-packages/tensorflow/python/framework/dtypes.py:525: FutureWarning: Passing (type, 1) or '1type' as a synonym of type is deprecated; in a future version of numpy, it will be understood as (type, (1,)) / '(1,)type'.\n",
      "  np_resource = np.dtype([(\"resource\", np.ubyte, 1)])\n",
      "/glob/intel-python/versions/2018u2/intelpython3/lib/python3.6/site-packages/h5py/__init__.py:34: FutureWarning: Conversion of the second argument of issubdtype from `float` to `np.floating` is deprecated. In future, it will be treated as `np.float64 == np.dtype(float).type`.\n",
      "  from ._conv import register_converters as _register_converters\n",
      "/home/u30073/.local/lib/python3.6/site-packages/tensorboard/compat/tensorflow_stub/dtypes.py:541: FutureWarning: Passing (type, 1) or '1type' as a synonym of type is deprecated; in a future version of numpy, it will be understood as (type, (1,)) / '(1,)type'.\n",
      "  _np_qint8 = np.dtype([(\"qint8\", np.int8, 1)])\n",
      "/home/u30073/.local/lib/python3.6/site-packages/tensorboard/compat/tensorflow_stub/dtypes.py:542: FutureWarning: Passing (type, 1) or '1type' as a synonym of type is deprecated; in a future version of numpy, it will be understood as (type, (1,)) / '(1,)type'.\n",
      "  _np_quint8 = np.dtype([(\"quint8\", np.uint8, 1)])\n",
      "/home/u30073/.local/lib/python3.6/site-packages/tensorboard/compat/tensorflow_stub/dtypes.py:543: FutureWarning: Passing (type, 1) or '1type' as a synonym of type is deprecated; in a future version of numpy, it will be understood as (type, (1,)) / '(1,)type'.\n",
      "  _np_qint16 = np.dtype([(\"qint16\", np.int16, 1)])\n",
      "/home/u30073/.local/lib/python3.6/site-packages/tensorboard/compat/tensorflow_stub/dtypes.py:544: FutureWarning: Passing (type, 1) or '1type' as a synonym of type is deprecated; in a future version of numpy, it will be understood as (type, (1,)) / '(1,)type'.\n",
      "  _np_quint16 = np.dtype([(\"quint16\", np.uint16, 1)])\n",
      "/home/u30073/.local/lib/python3.6/site-packages/tensorboard/compat/tensorflow_stub/dtypes.py:545: FutureWarning: Passing (type, 1) or '1type' as a synonym of type is deprecated; in a future version of numpy, it will be understood as (type, (1,)) / '(1,)type'.\n",
      "  _np_qint32 = np.dtype([(\"qint32\", np.int32, 1)])\n",
      "/home/u30073/.local/lib/python3.6/site-packages/tensorboard/compat/tensorflow_stub/dtypes.py:550: FutureWarning: Passing (type, 1) or '1type' as a synonym of type is deprecated; in a future version of numpy, it will be understood as (type, (1,)) / '(1,)type'.\n",
      "  np_resource = np.dtype([(\"resource\", np.ubyte, 1)])\n"
     ]
    }
   ],
   "source": [
    "#TODO: PUT RANDOM SEED FOR RESULT SECURING IN DEMOS\n",
    "import tensorflow as tf\n",
    "import tensorflow_probability as tfp\n",
    "import numpy as np\n",
    "import matplotlib.pyplot as plt\n",
    "import time\n",
    "\n",
    "%matplotlib inline"
   ]
  },
  {
   "cell_type": "code",
   "execution_count": 2,
   "metadata": {},
   "outputs": [
    {
     "name": "stdout",
     "output_type": "stream",
     "text": [
      "TensorFlow version (expected = 1.14.0): 1.14.0\n",
      "TensorFlow Probability version (expected = 0.7.0): 0.7.0\n"
     ]
    }
   ],
   "source": [
    "print('TensorFlow version (expected = 1.14.0):', tf.__version__)\n",
    "print('TensorFlow Probability version (expected = 0.7.0):', tfp.__version__)\n",
    "#trying to make it work with this version, as the nightly one does not import here"
   ]
  },
  {
   "cell_type": "code",
   "execution_count": 3,
   "metadata": {},
   "outputs": [],
   "source": [
    "def softmax(X, theta = 1.0, axis = None):\n",
    "    \"\"\"\n",
    "    Compute the softmax of each element along an axis of X.\n",
    "\n",
    "    Parameters\n",
    "    ----------\n",
    "    X: ND-Array. Probably should be floats.\n",
    "    theta (optional): float parameter, used as a multiplier\n",
    "        prior to exponentiation. Default = 1.0\n",
    "    axis (optional): axis to compute values along. Default is the\n",
    "        first non-singleton axis.\n",
    "\n",
    "    Returns an array the same size as X. The result will sum to 1\n",
    "    along the specified axis.\n",
    "    \"\"\"\n",
    "\n",
    "    # make X at least 2d\n",
    "    y = np.atleast_2d(X)\n",
    "\n",
    "    # find axis\n",
    "    if axis is None:\n",
    "        axis = next(j[0] for j in enumerate(y.shape) if j[1] > 1)\n",
    "\n",
    "    # multiply y against the theta parameter,\n",
    "    y = y * float(theta)\n",
    "\n",
    "    # subtract the max for numerical stability\n",
    "    y = y - np.expand_dims(np.max(y, axis = axis), axis)\n",
    "\n",
    "    # exponentiate y\n",
    "    y = np.exp(y)\n",
    "\n",
    "    # take the sum along the specified axis\n",
    "    ax_sum = np.expand_dims(np.sum(y, axis = axis), axis)\n",
    "\n",
    "    # finally: divide elementwise\n",
    "    p = y / ax_sum\n",
    "\n",
    "    # flatten if X was 1D\n",
    "    if len(X.shape) == 1: p = p.flatten()\n",
    "\n",
    "    return p"
   ]
  },
  {
   "cell_type": "markdown",
   "metadata": {},
   "source": [
    "## We are all set up, lets go!"
   ]
  },
  {
   "cell_type": "code",
   "execution_count": 4,
   "metadata": {},
   "outputs": [
    {
     "name": "stdout",
     "output_type": "stream",
     "text": [
      "We are using MNIST dataset!\n",
      "X_train.shape = (60000, 28, 28, 1)\n",
      "y_train.shape = (60000, 10)\n",
      "X_test.shape = (10000, 28, 28, 1)\n",
      "y_test.shape = (10000, 10)\n"
     ]
    },
    {
     "data": {
      "text/plain": [
       "<matplotlib.image.AxesImage at 0x7fd2194a10b8>"
      ]
     },
     "execution_count": 4,
     "metadata": {},
     "output_type": "execute_result"
    },
    {
     "data": {
      "image/png": "[encoded data removed]",
      "text/plain": [
       "<matplotlib.figure.Figure at 0x7fd21b2a82b0>"
      ]
     },
     "metadata": {},
     "output_type": "display_data"
    }
   ],
   "source": [
    "\"\"\"\n",
    "first, we load the dataset. We are trying to do it first with MNIST\n",
    "I've found this snippet somewhere in github\n",
    "\"\"\"\n",
    "\n",
    "#as we have 10 classes, I'm setting class number to 10\n",
    "class_nmr = 10\n",
    "\n",
    "print('We are using MNIST dataset!')\n",
    "(X_train, y_train), (X_test, y_test) = tf.keras.datasets.mnist.load_data()\n",
    "X_train = np.expand_dims(X_train, -1)\n",
    "n_train = X_train.shape[0]\n",
    "X_test = np.expand_dims(X_test, -1)\n",
    "y_train = tf.keras.utils.to_categorical(y_train, class_nmr)\n",
    "y_test = tf.keras.utils.to_categorical(y_test, class_nmr)\n",
    "\n",
    "# Normalize data\n",
    "X_train = X_train.astype('float32') / 255\n",
    "X_test = X_test.astype('float32') / 255\n",
    "\n",
    "print(\"X_train.shape =\", X_train.shape)\n",
    "print(\"y_train.shape =\", y_train.shape)\n",
    "print(\"X_test.shape =\", X_test.shape)\n",
    "print(\"y_test.shape =\", y_test.shape)\n",
    "\n",
    "plt.imshow(X_train[1026, :, :, 0], cmap='gist_gray')"
   ]
  },
  {
   "cell_type": "code",
   "execution_count": 5,
   "metadata": {},
   "outputs": [],
   "source": [
    "class BCNN:\n",
    "    def __init__(self):\n",
    "        self._build_model()\n",
    "        \n",
    "    def _build_model(self):\n",
    "        \n",
    "        \"\"\"\n",
    "        we build the model and get the predict, loss and optimization nodes as atributes of the class object\n",
    "        we also put placeholders for the features and labels\n",
    "        \"\"\"\n",
    "        \n",
    "        self.model_in = tf.placeholder(shape=[None,28,28,1], dtype=\"float32\")\n",
    "        self.labels = tf.placeholder(shape=[None,10], dtype=\"float32\")\n",
    "        \n",
    "        \"\"\"\n",
    "        here we model the neural network, creating separate objects for the Probability layers\n",
    "        \"\"\"\n",
    "        self.conv_1 = tfp.python.layers.Convolution2DFlipout(32, kernel_size=(3, 3), padding=\"same\", strides=2)\n",
    "        self.x = self.conv_1(self.model_in)\n",
    "        self.x = tf.keras.layers.BatchNormalization()(self.x)\n",
    "        self.x = tf.keras.layers.Activation('relu')(self.x)\n",
    "        self.conv_2 = tfp.python.layers.Convolution2DFlipout(64, kernel_size=(3, 3), padding=\"same\", strides=2)\n",
    "        self.x = self.conv_2(self.x)\n",
    "        self.x = tf.keras.layers.BatchNormalization()(self.x)\n",
    "        self.x = tf.keras.layers.Activation('relu')(self.x)\n",
    "        self.x = tf.keras.layers.Flatten()(self.x)\n",
    "        self.dense_1 = tfp.python.layers.DenseFlipout(512, activation='relu')\n",
    "        self.x = self.dense_1(self.x)\n",
    "        self.dense_2 = tfp.python.layers.DenseFlipout(10, activation=None)\n",
    "        self.preds = self.dense_2(self.x)  # logits\n",
    "        \n",
    "        \"\"\"\n",
    "        the elbo loss function sumbs de kl divergence loss and the softmax crossentropy\n",
    "        our 'key'-node here is self.loss\n",
    "        \"\"\"\n",
    "        self.loss_en = tf.nn.softmax_cross_entropy_with_logits(labels=self.labels, logits=self.preds)\n",
    "        self.loss_kl = tf.keras.losses.KLD(self.labels, self.preds) \n",
    "        self.loss = tf.reduce_mean(tf.add(self.loss_en, self.loss_kl))\n",
    "        \n",
    "        \"\"\"\n",
    "        our train operation is also a graph node\n",
    "        \"\"\"\n",
    "        self.optimizer = tf.train.AdamOptimizer(0.01)\n",
    "        self.train_op = self.optimizer.minimize(self.loss)\n",
    "        \n",
    "    def predict(self, sess, X):\n",
    "        \"\"\"\n",
    "        prediciton with outdated sess.run and feed dict\n",
    "        \"\"\"\n",
    "        return sess.run(self.preds, { self.model_in: X })\n",
    "    \n",
    "    def update(self, sess, x, y):\n",
    "        \"\"\"\n",
    "        update with outdated sess.run and feed dict, also using the labels placeholder\n",
    "        \"\"\"\n",
    "        feed_dict = { self.model_in: x, self.labels: y }\n",
    "        _, loss = sess.run(\n",
    "            [self.train_op, self.loss],\n",
    "            feed_dict)\n",
    "        return loss\n",
    "    \n",
    "    "
   ]
  },
  {
   "cell_type": "code",
   "execution_count": 6,
   "metadata": {},
   "outputs": [],
   "source": [
    "def accuracy(preds, labels):\n",
    "    return np.mean(np.argmax(preds, axis=1) == np.argmax(y_train, axis=1))"
   ]
  },
  {
   "cell_type": "code",
   "execution_count": 7,
   "metadata": {},
   "outputs": [
    {
     "name": "stderr",
     "output_type": "stream",
     "text": [
      "WARNING: Logging before flag parsing goes to stderr.\n",
      "W0913 09:42:42.420956 140542604672768 deprecation.py:323] From <ipython-input-5-5c9c0b61c4e3>:36: softmax_cross_entropy_with_logits (from tensorflow.python.ops.nn_ops) is deprecated and will be removed in a future version.\n",
      "Instructions for updating:\n",
      "\n",
      "Future major versions of TensorFlow will allow gradients to flow\n",
      "into the labels input on backprop by default.\n",
      "\n",
      "See `tf.nn.softmax_cross_entropy_with_logits_v2`.\n",
      "\n",
      "W0913 09:42:42.490380 140542604672768 deprecation.py:323] From /home/u30073/.local/lib/python3.6/site-packages/tensorflow/python/ops/math_grad.py:1250: add_dispatch_support.<locals>.wrapper (from tensorflow.python.ops.array_ops) is deprecated and will be removed in a future version.\n",
      "Instructions for updating:\n",
      "Use tf.where in 2.0, which has the same broadcast rule as np.where\n"
     ]
    }
   ],
   "source": [
    "bcnn = BCNN()"
   ]
  },
  {
   "cell_type": "code",
   "execution_count": 8,
   "metadata": {},
   "outputs": [
    {
     "name": "stdout",
     "output_type": "stream",
     "text": [
      "The time for variable initalizing is :   0.192\n",
      "Epoch: 0: loss =  11.571 , accuracy =   0.155, time:  14.974\n",
      "Epoch: 1: loss =   7.987 , accuracy =   0.143, time:  10.589\n",
      "Epoch: 2: loss =  11.535 , accuracy =   0.175, time:  10.479\n",
      "Epoch: 3: loss =   7.399 , accuracy =   0.252, time:  10.153\n",
      "Epoch: 4: loss =   4.660 , accuracy =   0.262, time:  11.198\n",
      "Epoch: 5: loss =   3.006 , accuracy =   0.323, time:  11.676\n",
      "Epoch: 6: loss =   2.124 , accuracy =   0.442, time:  10.899\n",
      "Epoch: 7: loss =   1.813 , accuracy =   0.563, time:  11.088\n",
      "Epoch: 8: loss =   1.524 , accuracy =   0.627, time:   9.968\n",
      "Epoch: 9: loss =   1.194 , accuracy =   0.715, time:  10.071\n",
      "Epoch: 10: loss =   0.920 , accuracy =   0.708, time:  10.310\n",
      "Epoch: 11: loss =   0.847 , accuracy =   0.768, time:  10.722\n",
      "Epoch: 12: loss =   0.734 , accuracy =   0.786, time:  10.571\n",
      "Epoch: 13: loss =   0.718 , accuracy =   0.814, time:  10.693\n",
      "Epoch: 14: loss =   0.640 , accuracy =   0.830, time:  10.933\n",
      "Epoch: 15: loss =   0.577 , accuracy =   0.840, time:  10.472\n",
      "Epoch: 16: loss =   0.539 , accuracy =   0.852, time:  10.154\n",
      "Epoch: 17: loss =   0.509 , accuracy =   0.860, time:  10.422\n",
      "Epoch: 18: loss =   0.473 , accuracy =   0.864, time:  10.459\n",
      "Epoch: 19: loss =   0.462 , accuracy =   0.868, time:  10.134\n",
      "Epoch: 20: loss =   0.432 , accuracy =   0.881, time:  10.324\n",
      "Epoch: 21: loss =   0.411 , accuracy =   0.887, time:  10.395\n",
      "Epoch: 22: loss =   0.380 , accuracy =   0.894, time:  10.086\n",
      "Epoch: 23: loss =   0.362 , accuracy =   0.895, time:  10.317\n",
      "Epoch: 24: loss =   0.344 , accuracy =   0.903, time:  10.123\n",
      "Epoch: 25: loss =   0.334 , accuracy =   0.907, time:  10.254\n",
      "Epoch: 26: loss =   0.308 , accuracy =   0.912, time:  10.053\n",
      "Epoch: 27: loss =   0.299 , accuracy =   0.912, time:  10.022\n",
      "Epoch: 28: loss =   0.290 , accuracy =   0.919, time:  10.058\n",
      "Epoch: 29: loss =   0.275 , accuracy =   0.923, time:  10.225\n"
     ]
    }
   ],
   "source": [
    "times = []\n",
    "with tf.Session() as sess:   \n",
    "    tic = time.time()\n",
    "    sess.run(tf.global_variables_initializer())\n",
    "    tac = time.time()\n",
    "    init_time = tac-tic\n",
    "    print(\"The time for variable initalizing is : {:7.3f}\".format(init_time))\n",
    "    for i in range(30):\n",
    "        tic = time.time()\n",
    "        loss = bcnn.update(x=X_train, sess=sess, y=y_train)\n",
    "        #print(loss)\n",
    "        preds = bcnn.predict(sess, X_train)\n",
    "        acc = accuracy(preds, y_train)\n",
    "        tac = time.time()\n",
    "        train_time = tac-tic\n",
    "        times.append(train_time)\n",
    "        print(\"Epoch: {}: loss = {:7.3f} , accuracy = {:7.3f}, time: {:7.3f}\".format(i, loss, acc, train_time))"
   ]
  },
  {
   "cell_type": "code",
   "execution_count": 15,
   "metadata": {},
   "outputs": [
    {
     "name": "stdout",
     "output_type": "stream",
     "text": [
      "In intel optimized Tensorflow 1.14, our train time mean was :  10.594, with std :   0.903\n"
     ]
    }
   ],
   "source": [
    "### about the performance\n",
    "mean = np.mean(times)\n",
    "std = np.std(times)\n",
    "print(\"In intel optimized Tensorflow 1.14, our train time mean was : {:7.3f}, with std : {:7.3f}\".format(mean, std))"
   ]
  },
  {
   "cell_type": "code",
   "execution_count": 16,
   "metadata": {},
   "outputs": [
    {
     "name": "stdout",
     "output_type": "stream",
     "text": [
      "Number of recognizable samples: 9995\n",
      "Unrecognizable samples: [2211 3887 6982 7302 7767]\n",
      "Test accuracy on MNIST (recognizable samples): 0.08934467233616808\n",
      "Test accuracy on MNIST (unrecognizable samples): 0.0\n"
     ]
    }
   ],
   "source": [
    "n_mc_run = 50\n",
    "med_prob_thres = 0.20\n",
    "\n",
    "with tf.Session() as sess:\n",
    "    sess.run(tf.global_variables_initializer())\n",
    "    y_pred_logits_list = [bcnn.predict(X=X_test, sess=sess) for _ in range(n_mc_run)]  # a list of predicted logits\n",
    "                                       \n",
    "y_pred_prob_all = np.concatenate([softmax(y, axis=-1)[:, :, np.newaxis] for y in y_pred_logits_list], axis=-1)\n",
    "y_pred = [[int(np.median(y) >= med_prob_thres) for y in y_pred_prob] for y_pred_prob in y_pred_prob_all]\n",
    "y_pred = np.array(y_pred)\n",
    "\n",
    "idx_valid = [any(y) for y in y_pred]\n",
    "print('Number of recognizable samples:', sum(idx_valid))\n",
    "\n",
    "idx_invalid = [not any(y) for y in y_pred]\n",
    "print('Unrecognizable samples:', np.where(idx_invalid)[0])\n",
    "\n",
    "print('Test accuracy on MNIST (recognizable samples):',\n",
    "      sum(np.equal(np.argmax(y_test[idx_valid], axis=-1), np.argmax(y_pred[idx_valid], axis=-1))) / len(y_test[idx_valid]))\n",
    "\n",
    "print('Test accuracy on MNIST (unrecognizable samples):',\n",
    "      sum(np.equal(np.argmax(y_test[idx_invalid], axis=-1), np.argmax(y_pred[idx_invalid], axis=-1))) / len(y_test[idx_invalid]))"
   ]
  },
  {
   "cell_type": "code",
   "execution_count": 23,
   "metadata": {},
   "outputs": [
    {
     "data": {
      "text/plain": [
       "<matplotlib.image.AxesImage at 0x7fd1f023e630>"
      ]
     },
     "execution_count": 23,
     "metadata": {},
     "output_type": "execute_result"
    },
    {
     "data": {
      "image/png": "[encoded data removed]",
      "text/plain": [
       "<matplotlib.figure.Figure at 0x7fd1f0334a20>"
      ]
     },
     "metadata": {},
     "output_type": "display_data"
    }
   ],
   "source": [
    "plt.imshow(X_test[6982, :, :, 0], cmap='gist_gray')"
   ]
  },
  {
   "cell_type": "code",
   "execution_count": null,
   "metadata": {},
   "outputs": [],
   "source": []
  }
 ],
 "metadata": {
  "kernelspec": {
   "display_name": "tf1test",
   "language": "python",
   "name": "tf1test"
  },
  "language_info": {
   "codemirror_mode": {
    "name": "ipython",
    "version": 3
   },
   "file_extension": ".py",
   "mimetype": "text/x-python",
   "name": "python",
   "nbconvert_exporter": "python",
   "pygments_lexer": "ipython3",
   "version": "3.6.3"
  }
 },
 "nbformat": 4,
 "nbformat_minor": 2
}
